{
 "cells": [
  {
   "cell_type": "code",
   "id": "initial_id",
   "metadata": {
    "collapsed": true,
    "ExecuteTime": {
     "end_time": "2024-06-27T15:29:22.220390Z",
     "start_time": "2024-06-27T15:29:21.755107Z"
    }
   },
   "source": [
    "# Cargamos las librerías necesarias\n",
    "import pandas as pd\n",
    "from pulp import *\n",
    "import numpy as np\n",
    "import os"
   ],
   "outputs": [],
   "execution_count": 1
  },
  {
   "metadata": {},
   "cell_type": "markdown",
   "source": "## Dataset of the city of Mallorca",
   "id": "d6845b6db36bad75"
  },
  {
   "metadata": {
    "ExecuteTime": {
     "end_time": "2024-06-27T15:40:56.754112Z",
     "start_time": "2024-06-27T15:40:56.747406Z"
    }
   },
   "cell_type": "code",
   "source": [
    "df = pd.read_csv(\"mallorca.csv\",index_col =\"year\")\n",
    "df.head(10)\n",
    "n = df.shape[0] \n",
    "p = df.shape[1]"
   ],
   "id": "efaebc8083e20f72",
   "outputs": [],
   "execution_count": 5
  },
  {
   "metadata": {},
   "cell_type": "markdown",
   "source": "## Optimization problem",
   "id": "61b9f0b872b62690"
  },
  {
   "metadata": {
    "ExecuteTime": {
     "end_time": "2024-06-27T15:40:59.917915Z",
     "start_time": "2024-06-27T15:40:59.901766Z"
    }
   },
   "cell_type": "code",
   "source": [
    "def conterfactuals_global_indicator(epsilon, max_incr, mu_u, mu_l, m, q, X_year, weight_v, df, year_selected,k):\n",
    "\n",
    "  beta = []\n",
    "  names_beta = [\"beta\" + str(j) for j in range(1, p+1)]\n",
    "  for j in range(p):\n",
    "      betaj = LpVariable(names_beta[j]) \n",
    "      beta.append(betaj)\n",
    "\n",
    "  delta = []\n",
    "  names_delta = [\"delta\" + str(j) for j in range(1, p+1)]\n",
    "  for j in range(p):\n",
    "      deltaj = LpVariable(names_delta[j], cat='Binary') # binary variables\n",
    "      delta.append(deltaj)\n",
    "\n",
    "  model = LpProblem(\"SustainableTourism\", LpMinimize)\n",
    "\n",
    "  for j in range(p):\n",
    "      model += (beta[j] <= max_incr[j])\n",
    "      model += (m * delta[j] <= beta[j])\n",
    "      model += (beta[j] <= q * delta[j])\n",
    "      model += (beta[j] + X_year[j] <= 1)\n",
    "\n",
    "  model += (sum(delta) <= mu_u)\n",
    "  model += (mu_l <= sum(delta))\n",
    "\n",
    "  for j in range(0,p):\n",
    "      aux = [ (X_year[j] + beta[j]) * weight_v[j] - ((X_year[j]) * weight_v[j]) for j in range(0,p)]\n",
    "      auxi = sum(aux)\n",
    "  model += (auxi >= epsilon)\n",
    "\n",
    "  # objective function\n",
    "  obj_func = sum(beta)\n",
    "  model += obj_func + k*sum(delta)\n",
    "\n",
    "  # Return results and feasability\n",
    "  status = model.solve()\n",
    "  print(\"status:\", LpStatus[status])\n",
    "  print(\"values:\")\n",
    "  beta_values = np.array([value(beta[i]) for i in range(p)])\n",
    "  #print(\"\\tbeta vector:\",beta_values)\n",
    "  delta_values = np.array([value(delta[i]) for i in range(p)])\n",
    "  #print(\"\\tdelta vector:\",delta_values)\n",
    "\n",
    "  res = pd.DataFrame({'beta': beta_values, 'delta': delta_values}, index=df.columns[:-1])\n",
    "\n",
    "\n",
    "  var_update = df.iloc[year_selected,:-1]+beta_values\n",
    "\n",
    "  # y'\n",
    "  y_prima = var_update.dot(weight_v)\n",
    "  y_prima\n",
    "\n",
    "  increase = y_prima - df.iloc[year_selected,-1]\n",
    "\n",
    "  return res, increase\n"
   ],
   "id": "ab41734cecd2b3f4",
   "outputs": [],
   "execution_count": 6
  },
  {
   "metadata": {},
   "cell_type": "markdown",
   "source": "## Definition of parameters established by the expert in the tourism domain",
   "id": "3117dcf8ad58fd5e"
  },
  {
   "metadata": {
    "ExecuteTime": {
     "end_time": "2024-06-27T15:41:01.196507Z",
     "start_time": "2024-06-27T15:41:01.192964Z"
    }
   },
   "cell_type": "code",
   "source": [
    "# Standard deviation of each variable\n",
    "std_vector = df.std(axis=0)\n",
    "std_vector\n",
    "# Weights\n",
    "weight_v = [1/p] * p\n",
    "# Global indicator\n",
    "df['y'] = df.dot(weight_v)"
   ],
   "id": "12a71334e5d75fbd",
   "outputs": [],
   "execution_count": 7
  },
  {
   "metadata": {},
   "cell_type": "markdown",
   "source": "## Experiment 1",
   "id": "ebe0f429ec10545e"
  },
  {
   "metadata": {
    "ExecuteTime": {
     "end_time": "2024-06-27T15:41:02.656373Z",
     "start_time": "2024-06-27T15:41:02.651911Z"
    }
   },
   "cell_type": "code",
   "source": [
    "year_selected = 24 # Year 2024\n",
    "data_year = df.iloc[year_selected,:] # with global indicator y\n",
    "X_year = df.iloc[year_selected,:-1] # withouth global indicator y\n",
    "data_year"
   ],
   "id": "5ce9f9947d77fe76",
   "outputs": [
    {
     "data": {
      "text/plain": [
       "x1    0.590476\n",
       "x2    0.484559\n",
       "x3    0.520416\n",
       "x4    0.148170\n",
       "x5    0.829295\n",
       "x6    0.756693\n",
       "x7    0.800650\n",
       "x8    0.331331\n",
       "y     0.557699\n",
       "Name: 2024, dtype: float64"
      ]
     },
     "execution_count": 8,
     "metadata": {},
     "output_type": "execute_result"
    }
   ],
   "execution_count": 8
  },
  {
   "metadata": {
    "ExecuteTime": {
     "end_time": "2024-06-27T15:41:05.385002Z",
     "start_time": "2024-06-27T15:41:05.381848Z"
    }
   },
   "cell_type": "code",
   "source": [
    "# Parameters and constants\n",
    "epsilon = 0.01*data_year['y']\n",
    "max_incr = 0.15*std_vector\n",
    "mu_u = 1\n",
    "mu_l = 1\n",
    "m = -50000\n",
    "q = 50000\n",
    "k=0"
   ],
   "id": "488f8598e853d429",
   "outputs": [],
   "execution_count": 9
  },
  {
   "metadata": {
    "ExecuteTime": {
     "end_time": "2024-06-27T15:41:06.923405Z",
     "start_time": "2024-06-27T15:41:06.883405Z"
    }
   },
   "cell_type": "code",
   "source": "res, increase = conterfactuals_global_indicator(epsilon, max_incr, mu_u, mu_l, m, q, X_year, weight_v, df, year_selected,k)",
   "id": "ac257ad3ba4bc45b",
   "outputs": [
    {
     "name": "stdout",
     "output_type": "stream",
     "text": [
      "status: Optimal\n",
      "values:\n"
     ]
    }
   ],
   "execution_count": 10
  },
  {
   "metadata": {
    "ExecuteTime": {
     "end_time": "2024-06-27T15:41:07.906817Z",
     "start_time": "2024-06-27T15:41:07.898210Z"
    }
   },
   "cell_type": "code",
   "source": [
    "# Changes\n",
    "print(res)"
   ],
   "id": "e89b8fb901944863",
   "outputs": [
    {
     "name": "stdout",
     "output_type": "stream",
     "text": [
      "        beta  delta\n",
      "x1  0.000000    0.0\n",
      "x2  0.000000    0.0\n",
      "x3  0.000000    0.0\n",
      "x4  0.000000    0.0\n",
      "x5  0.000000    0.0\n",
      "x6  0.000000    0.0\n",
      "x7  0.000000    0.0\n",
      "x8  0.044616    1.0\n"
     ]
    }
   ],
   "execution_count": 11
  },
  {
   "metadata": {
    "ExecuteTime": {
     "end_time": "2024-06-27T15:41:11.178451Z",
     "start_time": "2024-06-27T15:41:11.175589Z"
    }
   },
   "cell_type": "code",
   "source": [
    "# Increase in y\n",
    "print(increase)"
   ],
   "id": "1847242177d86475",
   "outputs": [
    {
     "name": "stdout",
     "output_type": "stream",
     "text": [
      "0.00557698824999997\n"
     ]
    }
   ],
   "execution_count": 12
  },
  {
   "metadata": {},
   "cell_type": "markdown",
   "source": "## Experiment 2",
   "id": "f9aceee867f00c91"
  },
  {
   "metadata": {
    "ExecuteTime": {
     "end_time": "2024-06-27T15:42:37.611475Z",
     "start_time": "2024-06-27T15:42:37.606749Z"
    }
   },
   "cell_type": "code",
   "source": [
    "year_selected = 23 # Year 2023\n",
    "data_year = df.iloc[year_selected,:] # with global indicator y\n",
    "X_year = df.iloc[year_selected,:-1] # withouth global indicator y\n",
    "data_year"
   ],
   "id": "3e993ee51b8dc955",
   "outputs": [
    {
     "data": {
      "text/plain": [
       "x1    0.714286\n",
       "x2    0.527860\n",
       "x3    0.428610\n",
       "x4    0.007442\n",
       "x5    0.741528\n",
       "x6    1.000000\n",
       "x7    1.000000\n",
       "x8    0.485874\n",
       "y     0.613200\n",
       "Name: 2023, dtype: float64"
      ]
     },
     "execution_count": 13,
     "metadata": {},
     "output_type": "execute_result"
    }
   ],
   "execution_count": 13
  },
  {
   "metadata": {
    "ExecuteTime": {
     "end_time": "2024-06-27T15:42:39.290129Z",
     "start_time": "2024-06-27T15:42:39.286266Z"
    }
   },
   "cell_type": "code",
   "source": [
    "# Parameters and constants\n",
    "epsilon = 0.05*data_year['y']\n",
    "max_incr = 0.3*std_vector\n",
    "mu_u = 4\n",
    "mu_l = 1\n",
    "m = -50000\n",
    "q = 50000\n",
    "k = 10"
   ],
   "id": "d4e2fb000bf2bf93",
   "outputs": [],
   "execution_count": 14
  },
  {
   "metadata": {
    "ExecuteTime": {
     "end_time": "2024-06-27T15:42:40.667238Z",
     "start_time": "2024-06-27T15:42:40.644257Z"
    }
   },
   "cell_type": "code",
   "source": "res, increase = conterfactuals_global_indicator(epsilon, max_incr, mu_u, mu_l, m, q, X_year, weight_v, df, year_selected,k)",
   "id": "a8dd2886155e4d32",
   "outputs": [
    {
     "name": "stdout",
     "output_type": "stream",
     "text": [
      "status: Optimal\n",
      "values:\n"
     ]
    }
   ],
   "execution_count": 15
  },
  {
   "metadata": {
    "ExecuteTime": {
     "end_time": "2024-06-27T15:42:41.479420Z",
     "start_time": "2024-06-27T15:42:41.471876Z"
    }
   },
   "cell_type": "code",
   "source": [
    "# Changes\n",
    "print(res)"
   ],
   "id": "aa0b5dd7d1e8de48",
   "outputs": [
    {
     "name": "stdout",
     "output_type": "stream",
     "text": [
      "        beta  delta\n",
      "x1  0.091358    1.0\n",
      "x2  0.048782    1.0\n",
      "x3  0.000000    0.0\n",
      "x4  0.000000    0.0\n",
      "x5  0.000000    0.0\n",
      "x6  0.000000    0.0\n",
      "x7  0.000000    0.0\n",
      "x8  0.105140    1.0\n"
     ]
    }
   ],
   "execution_count": 16
  },
  {
   "metadata": {
    "ExecuteTime": {
     "end_time": "2024-06-27T15:42:46.894678Z",
     "start_time": "2024-06-27T15:42:46.890987Z"
    }
   },
   "cell_type": "code",
   "source": [
    "# Increase in y\n",
    "print(increase)"
   ],
   "id": "ddf74a5b910d757a",
   "outputs": [
    {
     "name": "stdout",
     "output_type": "stream",
     "text": [
      "0.030660003749999998\n"
     ]
    }
   ],
   "execution_count": 17
  },
  {
   "metadata": {},
   "cell_type": "markdown",
   "source": "## Experiment 3",
   "id": "79025b91cbb9bfb4"
  },
  {
   "metadata": {
    "ExecuteTime": {
     "end_time": "2024-06-27T15:43:41.428894Z",
     "start_time": "2024-06-27T15:43:41.424339Z"
    }
   },
   "cell_type": "code",
   "source": [
    "year_selected = 23 # Year 2023\n",
    "data_year = df.iloc[year_selected,:] # with global indicator y\n",
    "X_year = df.iloc[year_selected,:-1] # withouth global indicator y\n",
    "data_year"
   ],
   "id": "7ba2889a53757fad",
   "outputs": [
    {
     "data": {
      "text/plain": [
       "x1    0.714286\n",
       "x2    0.527860\n",
       "x3    0.428610\n",
       "x4    0.007442\n",
       "x5    0.741528\n",
       "x6    1.000000\n",
       "x7    1.000000\n",
       "x8    0.485874\n",
       "y     0.613200\n",
       "Name: 2023, dtype: float64"
      ]
     },
     "execution_count": 18,
     "metadata": {},
     "output_type": "execute_result"
    }
   ],
   "execution_count": 18
  },
  {
   "metadata": {
    "ExecuteTime": {
     "end_time": "2024-06-27T15:43:42.350890Z",
     "start_time": "2024-06-27T15:43:42.346559Z"
    }
   },
   "cell_type": "code",
   "source": [
    "# Parameters and constants\n",
    "epsilon = 0.25*data_year['y']\n",
    "max_incr = 0.9*std_vector\n",
    "mu_u = 6\n",
    "mu_l = 1\n",
    "m = -50000\n",
    "q = 50000\n",
    "k = 10"
   ],
   "id": "9905f5b444bbd559",
   "outputs": [],
   "execution_count": 19
  },
  {
   "metadata": {
    "ExecuteTime": {
     "end_time": "2024-06-27T15:43:43.261004Z",
     "start_time": "2024-06-27T15:43:43.239019Z"
    }
   },
   "cell_type": "code",
   "source": "res, increase = conterfactuals_global_indicator(epsilon, max_incr, mu_u, mu_l, m, q, X_year, weight_v, df, year_selected,k)",
   "id": "3688b06f1b4eb782",
   "outputs": [
    {
     "name": "stdout",
     "output_type": "stream",
     "text": [
      "status: Optimal\n",
      "values:\n"
     ]
    }
   ],
   "execution_count": 20
  },
  {
   "metadata": {
    "ExecuteTime": {
     "end_time": "2024-06-27T15:43:43.862994Z",
     "start_time": "2024-06-27T15:43:43.858044Z"
    }
   },
   "cell_type": "code",
   "source": [
    "# Changes\n",
    "print(res)"
   ],
   "id": "a60c9b419f2b197e",
   "outputs": [
    {
     "name": "stdout",
     "output_type": "stream",
     "text": [
      "        beta  delta\n",
      "x1  0.140588    1.0\n",
      "x2  0.271385    1.0\n",
      "x3  0.241337    1.0\n",
      "x4  0.000000    0.0\n",
      "x5  0.257670    1.0\n",
      "x6  0.000000    0.0\n",
      "x7  0.000000    0.0\n",
      "x8  0.315420    1.0\n"
     ]
    }
   ],
   "execution_count": 21
  },
  {
   "metadata": {
    "ExecuteTime": {
     "end_time": "2024-06-27T15:43:45.118624Z",
     "start_time": "2024-06-27T15:43:45.115633Z"
    }
   },
   "cell_type": "code",
   "source": [
    "# Increase in y\n",
    "print(increase)"
   ],
   "id": "f44a7acc487340f9",
   "outputs": [
    {
     "name": "stdout",
     "output_type": "stream",
     "text": [
      "0.15330001999999998\n"
     ]
    }
   ],
   "execution_count": 22
  },
  {
   "metadata": {},
   "cell_type": "code",
   "outputs": [],
   "execution_count": null,
   "source": "",
   "id": "f285e852883ef0de"
  }
 ],
 "metadata": {
  "kernelspec": {
   "display_name": "Python 3",
   "language": "python",
   "name": "python3"
  },
  "language_info": {
   "codemirror_mode": {
    "name": "ipython",
    "version": 2
   },
   "file_extension": ".py",
   "mimetype": "text/x-python",
   "name": "python",
   "nbconvert_exporter": "python",
   "pygments_lexer": "ipython2",
   "version": "2.7.6"
  }
 },
 "nbformat": 4,
 "nbformat_minor": 5
}
